{
  "nbformat": 4,
  "nbformat_minor": 0,
  "metadata": {
    "colab": {
      "provenance": [],
      "authorship_tag": "ABX9TyMKn6GTE3zK7ytqrQLfXFhg",
      "include_colab_link": true
    },
    "kernelspec": {
      "name": "python3",
      "display_name": "Python 3"
    },
    "language_info": {
      "name": "python"
    }
  },
  "cells": [
    {
      "cell_type": "markdown",
      "metadata": {
        "id": "view-in-github",
        "colab_type": "text"
      },
      "source": [
        "<a href=\"https://colab.research.google.com/github/camgenomicmedicine/GM6-bioinformatics-practical/blob/main/PharmCAT_demonstration.ipynb\" target=\"_parent\"><img src=\"https://colab.research.google.com/assets/colab-badge.svg\" alt=\"Open In Colab\"/></a>"
      ]
    },
    {
      "cell_type": "markdown",
      "source": [
        "# PharmCAT \n",
        "## All the bioinformatics set-up"
      ],
      "metadata": {
        "id": "jufoSMrZOqqJ"
      }
    },
    {
      "cell_type": "code",
      "source": [
        "#@title Update the computer\n",
        "%%capture\n",
        "! sudo apt update && sudo apt upgrade -y"
      ],
      "metadata": {
        "id": "PqXQjRq-318y",
        "cellView": "form"
      },
      "execution_count": 1,
      "outputs": []
    },
    {
      "cell_type": "code",
      "source": [
        "#@title Set up conda on notebook\n",
        "%%capture\n",
        "! wget https://repo.anaconda.com/miniconda/Miniconda3-py37_4.8.2-Linux-x86_64.sh \n",
        "! chmod +x Miniconda3-py37_4.8.2-Linux-x86_64.sh \n",
        "! bash ./Miniconda3-py37_4.8.2-Linux-x86_64.sh -b -f -p /usr/local \n",
        "! conda config --add channels defaults \n",
        "! conda config --add channels bioconda \n",
        "! conda config --add channels conda-forge\n",
        "import sys \n",
        "sys.path.append('/usr/local/lib/python3.7/site-packages/')"
      ],
      "metadata": {
        "id": "6m6VpSbVzJvX",
        "cellView": "form"
      },
      "execution_count": 2,
      "outputs": []
    },
    {
      "cell_type": "code",
      "source": [
        "#@title Install the programs you need\n",
        "%%capture\n",
        "! conda install -c bioconda samtools bcftools -y"
      ],
      "metadata": {
        "id": "FSIrtZ_AzVYf",
        "cellView": "form"
      },
      "execution_count": 3,
      "outputs": []
    },
    {
      "cell_type": "code",
      "source": [
        "#@title Install java\n",
        "%%capture\n",
        "! sudo apt install openjdk-17-jdk\n"
      ],
      "metadata": {
        "cellView": "form",
        "id": "tjfPxJH365Ce"
      },
      "execution_count": 4,
      "outputs": []
    },
    {
      "cell_type": "code",
      "source": [
        "#@title Install some more java\n",
        "%%capture\n",
        "! sudo apt install openjdk-17-jre\n"
      ],
      "metadata": {
        "cellView": "form",
        "id": "3EN7iHR76Sv-"
      },
      "execution_count": 5,
      "outputs": []
    },
    {
      "cell_type": "code",
      "source": [
        "#@title Install pharmcat\n",
        "%%capture\n",
        "#install pharmcat\n",
        "! wget https://github.com/PharmGKB/PharmCAT/releases/download/v2.2.3/pharmcat-2.2.3-all.jar\n",
        "# Download the VCF Preprocessor\n",
        "! wget https://github.com/PharmGKB/PharmCAT/releases/download/v2.2.3/pharmcat-preprocessor-2.2.3.tar.gz\n",
        "# Unzip\n",
        "! tar -xvf pharmcat-preprocessor-2.2.3.tar.gz"
      ],
      "metadata": {
        "id": "eMPWGWw-rIdK",
        "cellView": "form"
      },
      "execution_count": 6,
      "outputs": []
    },
    {
      "cell_type": "code",
      "source": [
        "#@title Install some extra python\n",
        "%%capture\n",
        "! pip3 install -r preprocessor/requirements.txt\n",
        "! pip install scikit-allel\n",
        "! pip install pandas"
      ],
      "metadata": {
        "id": "R-_LS2Ukxu_n",
        "collapsed": true
      },
      "execution_count": 7,
      "outputs": []
    },
    {
      "cell_type": "markdown",
      "source": [
        "## Running PharmCAT"
      ],
      "metadata": {
        "id": "IFwpdM4HhERL"
      }
    },
    {
      "cell_type": "code",
      "source": [
        "! java -jar /content/pharmcat-2.2.3-all.jar -vcf preprocessor/pharmcat_positions.vcf -o ./"
      ],
      "metadata": {
        "id": "hs693OLZqZ1h",
        "colab": {
          "base_uri": "https://localhost:8080/"
        },
        "outputId": "b5b1949e-9980-4237-94a4-943d25265444"
      },
      "execution_count": 8,
      "outputs": [
        {
          "output_type": "stream",
          "name": "stdout",
          "text": [
            "Saving named allele matcher JSON results to ./pharmcat_positions.match.json\n",
            "Saving phenotyper JSON results to ./pharmcat_positions.phenotype.json\n",
            "Saving reporter HTML results to ./pharmcat_positions.report.html\n",
            "Done.\n"
          ]
        }
      ]
    }
  ]
}